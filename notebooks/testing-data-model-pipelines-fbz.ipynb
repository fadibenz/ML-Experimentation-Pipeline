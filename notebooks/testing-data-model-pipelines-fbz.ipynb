{
 "cells": [
  {
   "cell_type": "code",
   "id": "initial_id",
   "metadata": {
    "collapsed": true,
    "jupyter": {
     "is_executing": true
    },
    "ExecuteTime": {
     "end_time": "2025-03-17T11:30:55.794720100Z",
     "start_time": "2025-03-17T10:55:18.327985Z"
    }
   },
   "source": [
    "from torchvision.transforms import v2\n",
    "from data import make_dataset\n",
    "from architecture import BasicConvNet"
   ],
   "outputs": [],
   "execution_count": null
  },
  {
   "metadata": {},
   "cell_type": "markdown",
   "source": "#### Testing Dataset loading",
   "id": "f41122206842f99a"
  },
  {
   "metadata": {},
   "cell_type": "code",
   "outputs": [],
   "execution_count": null,
   "source": [
    "seed = 42\n",
    "transform = v2.Compose(\n",
    "    [\n",
    "        v2.ToTensor(),\n",
    "        v2.Normalize((0.5, 0.5, 0.5), (0.5, 0.5, 0.5))\n",
    "    ]\n",
    ")\n",
    "\n",
    "train_loader, val_loader, test_loader = make_dataset.make_dataset(\n",
    "    batch_size=128,\n",
    "    val_split=0.1,\n",
    "    transform=transform,\n",
    "    num_workers=4,\n",
    "    root='../../data/processed',\n",
    "    seed=seed\n",
    ")"
   ],
   "id": "8f65fff850f8c48b"
  },
  {
   "metadata": {},
   "cell_type": "markdown",
   "source": "#### Testing Model",
   "id": "8acb68992febd783"
  },
  {
   "metadata": {},
   "cell_type": "code",
   "outputs": [],
   "execution_count": null,
   "source": [
    "nb_channels = [3, 4, 8, 16]\n",
    "\n",
    "model = BasicConvNet.BasicConvNet(\n",
    "    nb_channels=nb_channels,\n",
    "    fc_size=[10,2]\n",
    ")\n"
   ],
   "id": "758dc895d6324c47"
  },
  {
   "metadata": {
    "ExecuteTime": {
     "end_time": "2025-03-17T11:36:35.109432Z",
     "start_time": "2025-03-17T11:36:35.103757Z"
    }
   },
   "cell_type": "code",
   "source": "1999 % 200 ",
   "id": "4051689cded72f1b",
   "outputs": [
    {
     "data": {
      "text/plain": [
       "199"
      ]
     },
     "execution_count": 5,
     "metadata": {},
     "output_type": "execute_result"
    }
   ],
   "execution_count": 5
  },
  {
   "metadata": {},
   "cell_type": "code",
   "outputs": [],
   "execution_count": null,
   "source": "",
   "id": "8ea7b7c8cbef5071"
  }
 ],
 "metadata": {
  "kernelspec": {
   "display_name": "Python 3",
   "language": "python",
   "name": "python3"
  },
  "language_info": {
   "codemirror_mode": {
    "name": "ipython",
    "version": 2
   },
   "file_extension": ".py",
   "mimetype": "text/x-python",
   "name": "python",
   "nbconvert_exporter": "python",
   "pygments_lexer": "ipython2",
   "version": "2.7.6"
  }
 },
 "nbformat": 4,
 "nbformat_minor": 5
}
